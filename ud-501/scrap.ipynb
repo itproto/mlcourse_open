{
 "cells": [
  {
   "cell_type": "markdown",
   "metadata": {},
   "source": [
    "https://github.com/fleshgordo/webscraping"
   ]
  },
  {
   "cell_type": "code",
   "execution_count": 16,
   "metadata": {},
   "outputs": [
    {
     "name": "stdout",
     "output_type": "stream",
     "text": [
      "Requirement already satisfied: lxml in /usr/local/lib/python3.5/dist-packages\n",
      "\u001b[33mYou are using pip version 9.0.2, however version 9.0.3 is available.\n",
      "You should consider upgrading via the 'pip install --upgrade pip' command.\u001b[0m\n",
      "Collecting cssselect\n",
      "  Downloading cssselect-1.0.3-py2.py3-none-any.whl\n",
      "Installing collected packages: cssselect\n",
      "Successfully installed cssselect-1.0.3\n",
      "\u001b[33mYou are using pip version 9.0.2, however version 9.0.3 is available.\n",
      "You should consider upgrading via the 'pip install --upgrade pip' command.\u001b[0m\n"
     ]
    }
   ],
   "source": [
    "!pip install lxml\n",
    "!pip install cssselect"
   ]
  },
  {
   "cell_type": "code",
   "execution_count": 39,
   "metadata": {},
   "outputs": [
    {
     "name": "stdout",
     "output_type": "stream",
     "text": [
      "Retrieving prices for AMD from https://finance.yahoo.com/quote/NASDAQ/history?p=AMD\n"
     ]
    }
   ],
   "source": [
    "from lxml import html \n",
    "import requests\n",
    "from time import sleep\n",
    "# setup the URL for the symbol we are interested in\n",
    "exchange = \"NASDAQ\"\n",
    "ticker = \"AMD\"\n",
    "url = \"https://finance.yahoo.com/quote/%s/history?p=%s\"%(exchange,ticker)\n",
    "\n",
    "# retrieve the web page\n",
    "response = requests.get(url)\n",
    "print (\"Retrieving prices for %s from %s\"%(ticker,url))\n",
    "# give it a few seconds in case there is some delay\n",
    "#sleep(3)\n",
    "# convert the text into an HTML Document\n",
    "parser = html.fromstring(response.text)\n",
    "\n",
    "# find the HTML DIV tag that has id 'prices'\n",
    "price_store = parser.cssselect(\"[data-test]\")\n",
    "# we will store our price information in the price_data list\n",
    "#price_data = []\n",
    "# find the HTML TABLE element within the prices DIV"
   ]
  },
  {
   "cell_type": "code",
   "execution_count": 47,
   "metadata": {},
   "outputs": [
    {
     "name": "stdout",
     "output_type": "stream",
     "text": [
      "Python 2.7.12\r\n"
     ]
    }
   ],
   "source": [
    "!python --version"
   ]
  },
  {
   "cell_type": "code",
   "execution_count": 57,
   "metadata": {},
   "outputs": [
    {
     "name": "stdout",
     "output_type": "stream",
     "text": [
      "/usr/bin/python3\n",
      "3.5.2 (default, Nov 23 2017, 16:37:01) \n",
      "[GCC 5.4.0 20160609]\n",
      "sys.version_info(major=3, minor=5, micro=2, releaselevel='final', serial=0)\n",
      "Requirement already up-to-date: setuptools in /usr/local/lib/python3.5/dist-packages\n",
      "Collecting pyppeteer\n",
      "  Using cached pyppeteer-0.0.17.tar.gz\n",
      "    Complete output from command python setup.py egg_info:\n",
      "    Traceback (most recent call last):\n",
      "      File \"<string>\", line 1, in <module>\n",
      "      File \"/tmp/pip-build-3nsdnsqe/pyppeteer/setup.py\", line 27, in <module>\n",
      "        compile_files(in_dir, out_dir, target)\n",
      "      File \"/usr/local/lib/python3.5/dist-packages/py_backwards/compiler.py\", line 85, in compile_files\n",
      "        dependencies.update(_compile_file(paths, target))\n",
      "      File \"/usr/local/lib/python3.5/dist-packages/py_backwards/compiler.py\", line 57, in _compile_file\n",
      "        code = f.read()\n",
      "      File \"/usr/lib/python3.5/encodings/ascii.py\", line 26, in decode\n",
      "        return codecs.ascii_decode(input, self.errors)[0]\n",
      "    UnicodeDecodeError: 'ascii' codec can't decode byte 0xe2 in position 2293: ordinal not in range(128)\n",
      "    \n",
      "    ----------------------------------------\n",
      "\u001b[31mCommand \"python setup.py egg_info\" failed with error code 1 in /tmp/pip-build-3nsdnsqe/pyppeteer/\u001b[0m\n"
     ]
    }
   ],
   "source": [
    "import sys\n",
    "print(sys.executable)\n",
    "print(sys.version)\n",
    "print(sys.version_info)\n",
    "\n",
    "!pip3 install --upgrade setuptools\n",
    "!pip3 install pyppeteer"
   ]
  }
 ],
 "metadata": {
  "kernelspec": {
   "display_name": "Python 3",
   "language": "python",
   "name": "python3"
  },
  "language_info": {
   "codemirror_mode": {
    "name": "ipython",
    "version": 3
   },
   "file_extension": ".py",
   "mimetype": "text/x-python",
   "name": "python",
   "nbconvert_exporter": "python",
   "pygments_lexer": "ipython3",
   "version": "3.5.2"
  }
 },
 "nbformat": 4,
 "nbformat_minor": 2
}
