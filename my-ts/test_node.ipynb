{
 "cells": [
  {
   "cell_type": "code",
   "execution_count": 25,
   "metadata": {},
   "outputs": [
    {
     "name": "stdout",
     "output_type": "stream",
     "text": [
      "name\ttype\tavg_weight\n",
      "tiger\tmammal\t260\n",
      "hippo\tmammal\t3400\n",
      "komodo dragon\treptile\t150\n",
      "\n",
      "null Promise { <pending> } '{}'\n",
      "undefined\n",
      "[ { name: 'tiger', type: 'mammal', avg_weight: '260' },\n",
      "  { name: 'hippo', type: 'mammal', avg_weight: '3400' },\n",
      "  { name: 'komodo dragon', type: 'reptile', avg_weight: '150' },\n",
      "  columns: [ 'name', 'type', 'avg_weight' ] ]\n"
     ]
    }
   ],
   "source": [
    "var fs = require(\"fs\");\n",
    "var d3 = require(\"d3\");\n",
    "var _ = require(\"lodash\");\n",
    "var fetch = require(\"node-fetch\");\n",
    "\n",
    "global.fetch = fetch;\n",
    "\n",
    "//read in the animals file\n",
    "fs.readFile(\"animals.tsv\", \"utf8\", function (error, data) {\n",
    "    console.log(data);\n",
    "    data =  d3.tsv(\"https://raw.githubusercontent.com/paulovieira/learn-js-data/master/data/animals.tsv\").then(\n",
    "    (res) => {\n",
    "        console.log(res)\n",
    "    },\n",
    "   (err) => {\n",
    "        console.log(err)\n",
    "    }\n",
    "    );\n",
    "    console.log(error, data, JSON.stringify(data));\n",
    "//compute the maximum weight\n",
    "    var maxWeight = d3.max(data, function(d) { return d.avg_weight; });\n",
    "//display the max on screen\n",
    "    console.log(maxWeight);\n",
    "});\n"
   ]
  },
  {
   "cell_type": "code",
   "execution_count": 27,
   "metadata": {},
   "outputs": [
    {
     "ename": "SyntaxError",
     "evalue": "Unexpected identifier",
     "output_type": "error",
     "traceback": [
      "SyntaxError: Unexpected identifier",
      "    at Object.exports.runInThisContext (vm.js:53:16)",
      "    at run ([eval]:1002:15)",
      "    at onRunRequest ([eval]:829:18)",
      "    at onMessage ([eval]:789:13)",
      "    at emitTwo (events.js:87:13)",
      "    at process.emit (events.js:172:7)",
      "    at handleMessage (internal/child_process.js:689:10)",
      "    at Pipe.channel.onread (internal/child_process.js:440:11)"
     ]
    }
   ],
   "source": []
  },
  {
   "cell_type": "code",
   "execution_count": 26,
   "metadata": {},
   "outputs": [
    {
     "ename": "Error",
     "evalue": "Cannot find module 'stats-analysis'",
     "output_type": "error",
     "traceback": [
      "Error: Cannot find module 'stats-analysis'",
      "    at Function.Module._resolveFilename (module.js:326:15)",
      "    at Function.Module._load (module.js:277:25)",
      "    at Module.require (module.js:354:17)",
      "    at require (internal/module.js:12:17)",
      "    at evalmachine.<anonymous>:2:15",
      "    at Object.exports.runInThisContext (vm.js:54:17)",
      "    at run ([eval]:1002:15)",
      "    at onRunRequest ([eval]:829:18)",
      "    at onMessage ([eval]:789:13)",
      "    at emitTwo (events.js:87:13)"
     ]
    }
   ],
   "source": [
    "\n",
    "const stats = require(\"stats-analysis\");\n",
    "var arr = [98, 98.6, 98.4, 98.8, 200, 120, 98.5];\n",
    "//standard deviation\n",
    "var my_stddev = stats.stdev(arr).toFixed(2);\n",
    "//mean\n",
    "var my_mean = stats.mean(arr).toFixed(2);\n",
    "//median\n",
    "var my_median = stats.median(arr);\n",
    "//median absolute deviation\n",
    "var my_mad = stats.MAD(arr);\n",
    "// Get the index locations of the outliers in the data set\n",
    "var my_outliers = stats.indexOfOutliers(arr);\n",
    "// Remove the outliers\n",
    "var my_without_outliers = stats.filterOutliers(arr);\n",
    "//display our stats\n",
    "console.log(\"Raw data is \", arr);\n",
    "console.log(\"Standard Deviation is \", my_stddev);\n",
    "console.log(\"Mean is \", my_mean);\n",
    "console.log(\"Median is \", my_median);\n",
    "console.log(\"Median Abs Deviation is \" + my_mad);\n",
    "console.log(\"The outliers of the data set are \", my_outliers);\n",
    "console.log(\"The data set without outliers is \", my_without_outliers)"
   ]
  },
  {
   "cell_type": "code",
   "execution_count": null,
   "metadata": {},
   "outputs": [],
   "source": []
  },
  {
   "cell_type": "code",
   "execution_count": null,
   "metadata": {},
   "outputs": [],
   "source": []
  }
 ],
 "metadata": {
  "kernelspec": {
   "display_name": "Javascript (Node.js)",
   "language": "javascript",
   "name": "javascript"
  },
  "language_info": {
   "file_extension": ".js",
   "mimetype": "application/javascript",
   "name": "javascript",
   "version": "4.2.6"
  }
 },
 "nbformat": 4,
 "nbformat_minor": 2
}
