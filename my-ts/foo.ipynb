{
 "cells": [
  {
   "cell_type": "code",
   "execution_count": 2,
   "metadata": {},
   "outputs": [
    {
     "ename": "ReferenceError",
     "evalue": "ls is not defined",
     "output_type": "error",
     "traceback": [
      "ReferenceError: ls is not defined",
      "    at evalmachine.<anonymous>:1:2",
      "    at Object.exports.runInThisContext (vm.js:54:17)",
      "    at run ([eval]:1002:15)",
      "    at onRunRequest ([eval]:829:18)",
      "    at onMessage ([eval]:789:13)",
      "    at emitTwo (events.js:87:13)",
      "    at process.emit (events.js:172:7)",
      "    at handleMessage (internal/child_process.js:689:10)",
      "    at Pipe.channel.onread (internal/child_process.js:440:11)"
     ]
    }
   ],
   "source": [
    "!ls\n"
   ]
  },
  {
   "cell_type": "code",
   "execution_count": 1,
   "metadata": {},
   "outputs": [
    {
     "ename": "Error",
     "evalue": "Cannot find module 'd3'",
     "output_type": "error",
     "traceback": [
      "Error: Cannot find module 'd3'",
      "    at Function.Module._resolveFilename (module.js:326:15)",
      "    at Function.Module._load (module.js:277:25)",
      "    at Module.require (module.js:354:17)",
      "    at require (internal/module.js:12:17)",
      "    at evalmachine.<anonymous>:2:10",
      "    at Object.exports.runInThisContext (vm.js:54:17)",
      "    at run ([eval]:1002:15)",
      "    at onRunRequest ([eval]:829:18)",
      "    at onMessage ([eval]:789:13)",
      "    at emitTwo (events.js:87:13)"
     ]
    }
   ],
   "source": [
    "var fs = require(\"fs\");\n",
    "var d3 = require(\"d3\");\n",
    "var _ = require(\"lodash\");\n",
    "//read in the animals file\n",
    "fs.readFile(\"data/animals.tsv\", \"utf8\", function(error, data) {\n",
    "    data = d3.tsv.parse(data);\n",
    "//display on screen\n",
    "    console.log(JSON.stringify(data));\n",
    "//compute the maximum weight\n",
    "    var maxWeight = d3.max(data, function(d) { return d.avg_weight; });\n",
    "//display the max on screen\n",
    "    console.log(maxWeight);\n",
    "});"
   ]
  },
  {
   "cell_type": "code",
   "execution_count": null,
   "metadata": {},
   "outputs": [],
   "source": []
  },
  {
   "cell_type": "code",
   "execution_count": null,
   "metadata": {},
   "outputs": [],
   "source": []
  }
 ],
 "metadata": {
  "kernelspec": {
   "display_name": "Javascript (Node.js)",
   "language": "javascript",
   "name": "javascript"
  },
  "language_info": {
   "file_extension": ".js",
   "mimetype": "application/javascript",
   "name": "javascript",
   "version": "4.2.6"
  }
 },
 "nbformat": 4,
 "nbformat_minor": 2
}
