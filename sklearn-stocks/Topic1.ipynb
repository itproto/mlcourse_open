{
 "cells": [
  {
   "cell_type": "markdown",
   "metadata": {},
   "source": [
    "Links\n",
    "https://github.com/robertmartin8/MachineLearningStocks\n",
    "\n",
    "GB\n",
    "https://github.com/PythonProgramming/Support-Vector-Machines---Basics-and-Fundamental-Investing-Project\n"
   ]
  },
  {
   "cell_type": "markdown",
   "metadata": {},
   "source": [
    "# Topic2"
   ]
  },
  {
   "cell_type": "code",
   "execution_count": 1,
   "metadata": {},
   "outputs": [],
   "source": [
    "import matplotlib.pyplot as plt\n",
    "\n",
    "from sklearn import datasets\n",
    "from sklearn import svm\n",
    "import numpy as np\n",
    "import pandas as pd"
   ]
  },
  {
   "cell_type": "markdown",
   "metadata": {},
   "source": [
    "# SVM\n",
    "> how to devide groups of data"
   ]
  },
  {
   "cell_type": "code",
   "execution_count": 2,
   "metadata": {},
   "outputs": [],
   "source": [
    "digits = datasets.load_digits()"
   ]
  },
  {
   "cell_type": "code",
   "execution_count": 3,
   "metadata": {},
   "outputs": [
    {
     "data": {
      "text/plain": [
       "(array([[ 0.,  0.,  5., ...,  0.,  0.,  0.],\n",
       "        [ 0.,  0.,  0., ..., 10.,  0.,  0.],\n",
       "        [ 0.,  0.,  0., ..., 16.,  9.,  0.],\n",
       "        ...,\n",
       "        [ 0.,  0.,  1., ...,  6.,  0.,  0.],\n",
       "        [ 0.,  0.,  2., ..., 12.,  0.,  0.],\n",
       "        [ 0.,  0., 10., ..., 12.,  1.,  0.]]),\n",
       " array([0, 1, 2, ..., 8, 9, 8]),\n",
       " array([[ 0.,  0.,  5., 13.,  9.,  1.,  0.,  0.],\n",
       "        [ 0.,  0., 13., 15., 10., 15.,  5.,  0.],\n",
       "        [ 0.,  3., 15.,  2.,  0., 11.,  8.,  0.],\n",
       "        [ 0.,  4., 12.,  0.,  0.,  8.,  8.,  0.],\n",
       "        [ 0.,  5.,  8.,  0.,  0.,  9.,  8.,  0.],\n",
       "        [ 0.,  4., 11.,  0.,  1., 12.,  7.,  0.],\n",
       "        [ 0.,  2., 14.,  5., 10., 12.,  0.,  0.],\n",
       "        [ 0.,  0.,  6., 13., 10.,  0.,  0.,  0.]]))"
      ]
     },
     "execution_count": 3,
     "metadata": {},
     "output_type": "execute_result"
    }
   ],
   "source": [
    "digits.data, \\\n",
    "digits.target, \\\n",
    "digits.images[0]"
   ]
  },
  {
   "cell_type": "markdown",
   "metadata": {},
   "source": [
    "Everything need to be converted and normilized data (house price 200K => (-1, 1))"
   ]
  },
  {
   "cell_type": "code",
   "execution_count": 4,
   "metadata": {},
   "outputs": [
    {
     "data": {
      "text/plain": [
       "array([9])"
      ]
     },
     "execution_count": 4,
     "metadata": {},
     "output_type": "execute_result"
    },
    {
     "data": {
      "image/png": "[encoded data removed]",
      "text/plain": [
       "<Figure size 432x288 with 1 Axes>"
      ]
     },
     "metadata": {},
     "output_type": "display_data"
    }
   ],
   "source": [
    "# Training\n",
    "x,y = digits.data[:-10], digits.target[:-10] # [:-1] all of the data\n",
    "\n",
    "# Classifier\n",
    "clf = svm.SVC(gamma=0.001, C=100)\n",
    "clf.fit(x, y); # Fit - fit line between numbers\n",
    "\n",
    "# Predict\n",
    "plt.imshow(digits.images[-2], cmap=plt.cm.gray_r);\n",
    "\n",
    "clf.predict(digits.data[[-2]])"
   ]
  },
  {
   "cell_type": "markdown",
   "metadata": {},
   "source": [
    "Fit is line \n",
    "Overfit is curve between points\n",
    "Gamma - gradient descent technique, how many leaps needed to reach bottom point of 'U' form"
   ]
  },
  {
   "cell_type": "markdown",
   "metadata": {},
   "source": [
    "# Part3\n",
    "> https://www.youtube.com/watch?v=AleGZ9dkfPs&index=3&list=PLQVvvaa0QuDd0flgGphKCej-9jp-QdzZ3"
   ]
  },
  {
   "cell_type": "markdown",
   "metadata": {},
   "source": [
    "Choose rigt **estimator**\n",
    "[sklearn](http://scikit-learn.org/stable/tutorial/machine_learning_map/index.html)\n",
    "\n",
    "<img src=\"http://scikit-learn.org/stable/_static/ml_map.png\">"
   ]
  },
  {
   "cell_type": "markdown",
   "metadata": {},
   "source": [
    "https://s3-eu-west-1.amazonaws.com/fayimora.com/2017/04/RoadToDataScientist1.png"
   ]
  },
  {
   "cell_type": "markdown",
   "metadata": {},
   "source": [
    "## Acquire data\n",
    "\n",
    "Challenges for finance\n",
    "1. Organize data\n",
    "2. Label company (Buy/Sell)\n",
    "3. Resource of data (paid, hard to get, getting/parsing data can be illegal because DDS)\n",
    "\n",
    "Stock fundamentals\n",
    "- try no DDOS\n",
    "\n",
    "\n",
    "Search for AAPL\n",
    "https://www.sec.gov/cgi-bin/browse-edgar?CIK=aapl&owner=exclude&action=getcompany&Find=Search\n",
    "\n",
    "Documents Annual **10K** and Quarter **10Q**\n",
    "\n",
    "Yahoo stock stats\n",
    "https://finance.yahoo.com/quote/AAPL/key-statistics?p=AAPL\n",
    "\n",
    "Features:\n",
    "- Sector\n",
    "- Trailing P/E (~12)\n",
    "- Debt/Equity\n",
    "- Price/Book (~6), but for maining ~>0 (because is nothing except tools)\n",
    "\n"
   ]
  },
  {
   "cell_type": "code",
   "execution_count": 5,
   "metadata": {},
   "outputs": [
    {
     "name": "stdout",
     "output_type": "stream",
     "text": [
      "[1]\n"
     ]
    },
    {
     "data": {
      "image/png": "[encoded data removed]",
      "text/plain": [
       "<Figure size 432x288 with 1 Axes>"
      ]
     },
     "metadata": {},
     "output_type": "display_data"
    }
   ],
   "source": [
    "from matplotlib import style\n",
    "style.use('ggplot')\n",
    "\n",
    "_x=[1,5,1.5,8,1,9]\n",
    "_y=[2,8,1.8,8,0.6,11]\n",
    "# ACTUALLY data should be scalled\n",
    "\n",
    "plt.scatter(_x, _y);\n",
    "\n",
    "# Clasify chart data\n",
    "X = np.array([list(z) for z in zip(_x, _y)])\n",
    "Y = [0, 1, 0, 1,0,1]\n",
    "\n",
    "# Use SVC classifier Support Vector Machines\n",
    "clf = svm.SVC(kernel='linear', C=1.0)\n",
    "clf.fit(X, Y)\n",
    "\n",
    "#Predict\n",
    "print(clf.predict([[10,20]]))"
   ]
  },
  {
   "cell_type": "code",
   "execution_count": 6,
   "metadata": {},
   "outputs": [
    {
     "data": {
      "image/png": "[encoded data removed]",
      "text/plain": [
       "<Figure size 432x288 with 1 Axes>"
      ]
     },
     "metadata": {},
     "output_type": "display_data"
    }
   ],
   "source": [
    "# DRAW this coef line\n",
    "def get_split_line(clf, X):\n",
    "    w = clf.coef_[0]\n",
    "    a = -w[0]/w[1]\n",
    "    xx = np.linspace(min(X[:,0]), max(X[:,0]))\n",
    "    yy = a*xx -clf.intercept_[0]/w[1]\n",
    "    return [xx, yy]\n",
    "\n",
    "def plot_with_divider(clf, X, y):\n",
    "    [xx, yy] = get_split_line(clf, X)\n",
    "    h0 = plt.plot(xx, yy, 'k-', label=\"non weighted\")\n",
    "\n",
    "    plt.scatter(X[:, 0], X[:,1], c=y) # X[:, 0] => dig into all of first\n",
    "    plt.legend()\n",
    "    return plt\n",
    "    \n",
    "plot_with_divider(clf, X, Y);"
   ]
  },
  {
   "cell_type": "markdown",
   "metadata": {},
   "source": [
    "# Part 13"
   ]
  },
  {
   "cell_type": "code",
   "execution_count": 7,
   "metadata": {
    "scrolled": true
   },
   "outputs": [
    {
     "name": "stdout",
     "output_type": "stream",
     "text": [
      "<class 'pandas.core.frame.DataFrame'>\n",
      "RangeIndex: 1761 entries, 0 to 1760\n",
      "Data columns (total 45 columns):\n",
      "Unnamed: 0                   1761 non-null int64\n",
      "Date                         1761 non-null object\n",
      "Unix                         1761 non-null float64\n",
      "Ticker                       1761 non-null object\n",
      "Price                        1761 non-null float64\n",
      "stock_p_change               1761 non-null float64\n",
      "SP500                        1761 non-null float64\n",
      "sp500_p_change               1761 non-null float64\n",
      "Difference                   1761 non-null float64\n",
      "DE Ratio                     1761 non-null float64\n",
      "Trailing P/E                 1761 non-null float64\n",
      "Price/Sales                  1761 non-null float64\n",
      "Price/Book                   1761 non-null float64\n",
      "Profit Margin                1761 non-null float64\n",
      "Operating Margin             1761 non-null float64\n",
      "Return on Assets             1761 non-null float64\n",
      "Return on Equity             1761 non-null float64\n",
      "Revenue Per Share            1761 non-null float64\n",
      "Market Cap                   1761 non-null float64\n",
      "Enterprise Value             1761 non-null float64\n",
      "Forward P/E                  1761 non-null float64\n",
      "PEG Ratio                    1761 non-null float64\n",
      "Enterprise Value/Revenue     1761 non-null float64\n",
      "Enterprise Value/EBITDA      1761 non-null float64\n",
      "Revenue                      1761 non-null float64\n",
      "Gross Profit                 1761 non-null float64\n",
      "EBITDA                       1761 non-null float64\n",
      "Net Income Avl to Common     1761 non-null float64\n",
      "Diluted EPS                  1761 non-null float64\n",
      "Earnings Growth              1761 non-null float64\n",
      "Revenue Growth               1761 non-null float64\n",
      "Total Cash                   1761 non-null float64\n",
      "Total Cash Per Share         1761 non-null float64\n",
      "Total Debt                   1761 non-null float64\n",
      "Current Ratio                1761 non-null float64\n",
      "Book Value Per Share         1761 non-null float64\n",
      "Cash Flow                    1761 non-null float64\n",
      "Beta                         1761 non-null float64\n",
      "Held by Insiders             1761 non-null float64\n",
      "Held by Institutions         1761 non-null float64\n",
      "Shares Short (as of          1761 non-null float64\n",
      "Short Ratio                  1761 non-null float64\n",
      "Short % of Float             1761 non-null float64\n",
      "Shares Short (prior          1761 non-null float64\n",
      "Status                       1761 non-null object\n",
      "dtypes: float64(41), int64(1), object(3)\n",
      "memory usage: 619.2+ KB\n"
     ]
    }
   ],
   "source": [
    "# Get in p.12\n",
    "ks = pd.read_csv('./infraQuarter/key_stats.csv');\n",
    "ks.info();"
   ]
  },
  {
   "cell_type": "code",
   "execution_count": 8,
   "metadata": {},
   "outputs": [
    {
     "data": {
      "image/png": "[encoded data removed]",
      "text/plain": [
       "<Figure size 432x288 with 1 Axes>"
      ]
     },
     "metadata": {},
     "output_type": "display_data"
    }
   ],
   "source": [
    "\n",
    "perform_dic = {'underperform': 0, 'outperform': 1};\n",
    "\n",
    "# Trained data\n",
    "def get_data(feat = [\"DE Ratio\", \"Trailing P/E\"], count = 500):\n",
    "    df = ks[:count]\n",
    "    X = df[feat].values\n",
    "    y = df['Status'].map(perform_dic);\n",
    "    return X, y\n",
    "\n",
    "# CLF-SVM_SVC\n",
    "def fitClf(X,y):\n",
    "    clf = svm.SVC(kernel='linear', C=1.0);\n",
    "    clf.fit(X, y);\n",
    "    return clf;\n",
    "\n",
    "# Plot\n",
    "def plot_and_label(X, y, clf, feat= [\"DE Ratio\", \"Trailing P/E\"]):\n",
    "    plt = plot_with_divider(clf, X, y);\n",
    "    plt.xlabel(feat[0]);\n",
    "    plt.ylabel(feat[1]);\n",
    "    return plt\n",
    "\n",
    "X, y = get_data();\n",
    "clf = fitClf(X,y);\n",
    "plot_and_label(X,y, clf);"
   ]
  },
  {
   "cell_type": "code",
   "execution_count": 9,
   "metadata": {},
   "outputs": [
    {
     "data": {
      "text/plain": [
       "35"
      ]
     },
     "execution_count": 9,
     "metadata": {},
     "output_type": "execute_result"
    }
   ],
   "source": [
    "\n",
    "FEATURES = [\n",
    "  'DE Ratio',\n",
    "  'Trailing P/E',\n",
    " 'Price/Sales',\n",
    "  'Price/Book',\n",
    "  'Profit Margin',\n",
    "  'Operating Margin',\n",
    "  'Return on Assets',\n",
    "  'Return on Equity',\n",
    "  'Revenue Per Share',\n",
    "  'Market Cap',\n",
    "  'Enterprise Value',\n",
    "  'Forward P/E',\n",
    "  'PEG Ratio',\n",
    "  'Enterprise Value/Revenue',\n",
    "  'Enterprise Value/EBITDA',\n",
    "  'Revenue',\n",
    "  'Gross Profit',\n",
    "  'EBITDA',\n",
    "  'Net Income Avl to Common ',\n",
    "  'Diluted EPS',\n",
    "  'Earnings Growth',\n",
    "  'Revenue Growth',\n",
    "  'Total Cash',\n",
    "  'Total Cash Per Share',\n",
    "  'Total Debt',\n",
    "  'Current Ratio',\n",
    "  'Book Value Per Share',\n",
    "  'Cash Flow',\n",
    "  'Beta',\n",
    "  'Held by Insiders',\n",
    "  'Held by Institutions',\n",
    "  'Shares Short (as of',\n",
    "  'Short Ratio',\n",
    "  'Short % of Float',\n",
    "  'Shares Short (prior '\n",
    "];\n",
    "len(FEATURES)\n"
   ]
  },
  {
   "cell_type": "code",
   "execution_count": 10,
   "metadata": {},
   "outputs": [],
   "source": [
    "# Topic 14\n",
    "from sklearn import preprocessing\n",
    "\n",
    "def get_prep_data(feat, count = 50):\n",
    "    X, y = get_data(feat, count);\n",
    "    #X = preprocessing.scale(X)\n",
    "    return X, y;\n",
    "\n",
    "\n",
    "# X, y = get_prep_data();\n",
    "# clf = fitClf(X,y);\n",
    "# plot_and_label(X,y, clf);"
   ]
  },
  {
   "cell_type": "code",
   "execution_count": null,
   "metadata": {},
   "outputs": [],
   "source": [
    "FEATURES =  [\n",
    "  'DE Ratio',\n",
    "  'Trailing P/E',\n",
    "  'Price/Sales',\n",
    "  'Price/Book',\n",
    "  'Profit Margin',\n",
    "  'Operating Margin',\n",
    "  'Return on Assets',\n",
    "  'Return on Equity',\n",
    "  'Revenue Per Share',\n",
    "  'Market Cap',\n",
    "  'Enterprise Value',\n",
    "  'Forward P/E',\n",
    "  'PEG Ratio',\n",
    "  'Enterprise Value/Revenue',\n",
    "  'Enterprise Value/EBITDA',\n",
    "  'Revenue',\n",
    "  'Gross Profit',\n",
    "  'EBITDA',\n",
    "  'Net Income Avl to Common ',\n",
    "  'Diluted EPS',\n",
    "  'Earnings Growth',\n",
    "  'Revenue Growth',\n",
    "  'Total Cash',\n",
    "  'Total Cash Per Share',\n",
    "  'Total Debt',\n",
    "  'Current Ratio',\n",
    "  'Book Value Per Share',\n",
    "  'Cash Flow',\n",
    "  'Beta',\n",
    "  'Held by Insiders',\n",
    "  'Held by Institutions',\n",
    "  'Shares Short (as of',\n",
    "  'Short Ratio',\n",
    "  'Short % of Float',\n",
    "  'Shares Short (prior '\n",
    "]\n",
    "\n",
    "def Build_Data_Set():\n",
    "  data_df = pd.read_csv(\"./infraQuarter/key_stats.csv\")\n",
    "\n",
    "  #data_df = data_df[:100]\n",
    "\n",
    "  X = np.array(data_df[FEATURES].values)#.tolist())\n",
    "\n",
    "  y = ( data_df[\"Status\"]\n",
    "        .replace(\"underperform\",0)\n",
    "        .replace(\"outperform\",1)\n",
    "        .values.tolist()\n",
    "  )\n",
    "\n",
    "  X = preprocessing.scale(X)\n",
    "\n",
    "  return X,y\n",
    "\n",
    "def Analysis():\n",
    "  test_size = 100\n",
    "  X, y = Build_Data_Set()\n",
    "  print(len(X))\n",
    "\n",
    "  clf = svm.SVC(kernel=\"linear\", C=1.0)\n",
    "  clf.fit(X[:-test_size],y[:-test_size])\n",
    "\n",
    "  correct_count = 0\n",
    "\n",
    "  for x in range(1, test_size+1):\n",
    "    if clf.predict(X[-x])[0] == y[-x]:\n",
    "      correct_count += 1\n",
    "\n",
    "  print(\"correct_count=%s\"%correct_count)\n",
    "  print(\"test_size=%s\"%test_size)\n",
    "  # on OS X with 64-bit python 2.7.6 had to add float(), otherwise result was zero:\n",
    "  print(\"Accuracy:\", (float(correct_count) / float(test_size)) * 100.00)\n",
    "\n",
    "Analysis()"
   ]
  },
  {
   "cell_type": "code",
   "execution_count": null,
   "metadata": {},
   "outputs": [],
   "source": []
  }
 ],
 "metadata": {
  "kernelspec": {
   "display_name": "Python 3",
   "language": "python",
   "name": "python3"
  },
  "language_info": {
   "codemirror_mode": {
    "name": "ipython",
    "version": 3
   },
   "file_extension": ".py",
   "mimetype": "text/x-python",
   "name": "python",
   "nbconvert_exporter": "python",
   "pygments_lexer": "ipython3",
   "version": "3.5.2"
  }
 },
 "nbformat": 4,
 "nbformat_minor": 2
}
